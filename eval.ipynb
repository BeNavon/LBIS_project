{
 "cells": [
  {
   "cell_type": "code",
   "execution_count": null,
   "id": "initial_id",
   "metadata": {
    "collapsed": true
   },
   "outputs": [],
   "source": [
    "def calculate_delta_phi_vector(y1,y2,y1_hat,y2_hat):\n",
    "    # Ensure inputs are NumPy arrays (in case they are lists)\n",
    "    y1, y2, y1_hat, y2_hat = map(np.asarray, [y1, y2, y1_hat, y2_hat])\n",
    "    # Compute angles using element-wise operations\n",
    "    delta_phi = np.arctan2(y2_hat * y1 - y1_hat * y2, y1_hat * y1 + y2_hat * y2)\n",
    "    delta_phi = delta_phi / (2 * np.pi)\n",
    "    return delta_phi  # Returns a NumPy array\n",
    "\n",
    "def calculate_sRMSE(y_pred,y_actual):\n",
    "    # this code uses the assumption that y_pred and y_actual are in the dimensions: [num_examples,2]\n",
    "    y1 = y_actual[:,0]\n",
    "    y2 = y_actual[:,1]\n",
    "    y1_hat = y_pred[:,0]\n",
    "    y2_hat = y_pred[:,1]\n",
    "    # Ensure inputs are NumPy arrays (in case they are lists)\n",
    "    y1, y2, y1_hat, y2_hat = map(np.asarray, [y1, y2, y1_hat, y2_hat])\n",
    "    # compute delta_phi:\n",
    "    delta_phi_values = calculate_delta_phi_vector(y1, y2, y1_hat, y2_hat)\n",
    "    print(delta_phi_values)\n",
    "    # calculate the sRMSE :\n",
    "    sRMSE = np.sqrt(np.power(delta_phi_values, 2).mean())\n",
    "    return sRMSE\n",
    "\n",
    "def compute_sRMSE_on_validation(model, device, val_loader):\n",
    "    model.eval()  # Set model to evaluation mode\n",
    "    all_preds, all_targets = [], []\n",
    "\n",
    "    with torch.no_grad():\n",
    "        for data, targets in val_loader:\n",
    "            data, targets = data.to(device), targets.to(device)\n",
    "            outputs = model(data)\n",
    "\n",
    "            # Move data to CPU and convert to NumPy\n",
    "            all_preds.append(outputs.cpu().numpy())\n",
    "            all_targets.append(targets.cpu().numpy())\n",
    "\n",
    "    # Concatenate all batches\n",
    "    y_pred = np.vstack(all_preds)\n",
    "    y_actual = np.vstack(all_targets)\n",
    "\n",
    "    # Compute sRMSE\n",
    "    srmse = calculate_sRMSE(y_pred, y_actual)\n",
    "    print(f\"Validation sRMSE: {srmse:.4f}\")\n",
    "\n",
    "    return srmse"
   ]
  },
  {
   "metadata": {},
   "cell_type": "code",
   "outputs": [],
   "execution_count": null,
   "source": [
    "# Compute sRMSE on validation set\n",
    "compute_sRMSE_on_validation(model, device, val_loader)"
   ],
   "id": "ce2ce3ea057fec1e"
  }
 ],
 "metadata": {
  "kernelspec": {
   "display_name": "Python 3",
   "language": "python",
   "name": "python3"
  },
  "language_info": {
   "codemirror_mode": {
    "name": "ipython",
    "version": 2
   },
   "file_extension": ".py",
   "mimetype": "text/x-python",
   "name": "python",
   "nbconvert_exporter": "python",
   "pygments_lexer": "ipython2",
   "version": "2.7.6"
  }
 },
 "nbformat": 4,
 "nbformat_minor": 5
}
